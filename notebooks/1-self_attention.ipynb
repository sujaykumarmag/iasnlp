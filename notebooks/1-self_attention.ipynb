{
 "cells": [
  {
   "cell_type": "code",
   "execution_count": 29,
   "metadata": {},
   "outputs": [],
   "source": [
    "import pandas as pd\n",
    "import numpy as np\n",
    "import torch\n",
    "from torch.nn.functional import softmax"
   ]
  },
  {
   "cell_type": "code",
   "execution_count": 30,
   "metadata": {},
   "outputs": [],
   "source": [
    "# HYPERPARAMETERS\n",
    "Q_K = 512\n",
    "V_K  = 512"
   ]
  },
  {
   "cell_type": "code",
   "execution_count": 37,
   "metadata": {},
   "outputs": [],
   "source": [
    "def scaled_attention(q,k,v,mask=None):\n",
    "    scaled = np.matmul(q,k.T)/np.sqrt(k.shape[0])\n",
    "    n = q.shape[0]\n",
    "    if mask == True:\n",
    "        masked_val = np.tril(np.ones(scaled.shape))\n",
    "        masked_val[masked_val==0] = -np.inf\n",
    "        masked_val[masked_val==1] = 1\n",
    "    else:\n",
    "        masked_val = np.zeros(scaled.shape)\n",
    "    tensors = torch.tensor(scaled+masked_val)\n",
    "    attention = softmax(tensors)\n",
    "    # return np.dot(attention,v)\n",
    "    return attention\n",
    "                "
   ]
  },
  {
   "cell_type": "code",
   "execution_count": 38,
   "metadata": {},
   "outputs": [
    {
     "name": "stderr",
     "output_type": "stream",
     "text": [
      "/var/folders/5n/k7vs285n7vz44p74rryzf67h0000gn/T/ipykernel_1507/2604174578.py:11: UserWarning: Implicit dimension choice for softmax has been deprecated. Change the call to include dim=X as an argument.\n",
      "  attention = softmax(tensors)\n"
     ]
    },
    {
     "data": {
      "text/plain": [
       "tensor([[1.0000e+00, 0.0000e+00, 0.0000e+00, 0.0000e+00],\n",
       "        [3.8062e-03, 9.9619e-01, 0.0000e+00, 0.0000e+00],\n",
       "        [8.4232e-01, 1.5768e-01, 3.3226e-07, 0.0000e+00],\n",
       "        [1.7293e-03, 8.1311e-01, 5.0799e-15, 1.8517e-01]], dtype=torch.float64)"
      ]
     },
     "execution_count": 38,
     "metadata": {},
     "output_type": "execute_result"
    }
   ],
   "source": [
    "sentence = \"My Name is Sujay\"\n",
    "n = len(sentence.split(\" \"))\n",
    "q = np.random.randn(n,Q_K)\n",
    "k = np.random.randn(n,Q_K)\n",
    "v = np.random.randn(n,V_K)\n",
    "\n",
    "scaled_attention(q,k,v,mask=True)"
   ]
  },
  {
   "cell_type": "code",
   "execution_count": null,
   "metadata": {},
   "outputs": [],
   "source": []
  },
  {
   "cell_type": "code",
   "execution_count": null,
   "metadata": {},
   "outputs": [],
   "source": []
  },
  {
   "cell_type": "code",
   "execution_count": null,
   "metadata": {},
   "outputs": [],
   "source": []
  }
 ],
 "metadata": {
  "kernelspec": {
   "display_name": "Python 3 (ipykernel)",
   "language": "python",
   "name": "python3"
  },
  "language_info": {
   "codemirror_mode": {
    "name": "ipython",
    "version": 3
   },
   "file_extension": ".py",
   "mimetype": "text/x-python",
   "name": "python",
   "nbconvert_exporter": "python",
   "pygments_lexer": "ipython3",
   "version": "3.12.4"
  }
 },
 "nbformat": 4,
 "nbformat_minor": 4
}
